{
  "nbformat": 4,
  "nbformat_minor": 0,
  "metadata": {
    "colab": {
      "name": "Data Gathering.ipynb",
      "provenance": [],
      "collapsed_sections": [],
      "include_colab_link": true
    },
    "kernelspec": {
      "name": "python3",
      "display_name": "Python 3"
    },
    "language_info": {
      "name": "python"
    }
  },
  "cells": [
    {
      "cell_type": "markdown",
      "metadata": {
        "id": "view-in-github",
        "colab_type": "text"
      },
      "source": [
        "<a href=\"https://colab.research.google.com/github/KumudaBG/Stock-Price-Prediction/blob/main/Data_Gathering.ipynb\" target=\"_parent\"><img src=\"https://colab.research.google.com/assets/colab-badge.svg\" alt=\"Open In Colab\"/></a>"
      ]
    },
    {
      "cell_type": "code",
      "metadata": {
        "id": "WxrXJ9auZgPQ"
      },
      "source": [
        "import pandas as pd"
      ],
      "execution_count": null,
      "outputs": []
    },
    {
      "cell_type": "markdown",
      "metadata": {
        "id": "Az6d536eNLUs"
      },
      "source": [
        "# Introduction"
      ]
    },
    {
      "cell_type": "markdown",
      "metadata": {
        "id": "bhF0S_P8NjIM"
      },
      "source": [
        "# Data Sources\n",
        "\n",
        "For initial investigation and analysis we will be using the data from [Kaggle stock Dataset](https://www.kaggle.com/jacksoncrow/stock-market-dataset?select=stocks). This Dataset has around 5800+ stock symbols."
      ]
    },
    {
      "cell_type": "code",
      "metadata": {
        "colab": {
          "base_uri": "https://localhost:8080/",
          "height": 272
        },
        "id": "bhXHR9w6Zevj",
        "outputId": "27d01fd9-ff29-4b76-d4ed-500ea8143831"
      },
      "source": [
        "tickersDf = pd.read_csv('/content/drive/MyDrive/MLSpring-2021/teams/musketeers/Midterm/Data/symbols_valid_meta.csv')\n",
        "tickersDf.head()"
      ],
      "execution_count": null,
      "outputs": [
        {
          "output_type": "execute_result",
          "data": {
            "text/html": [
              "<div>\n",
              "<style scoped>\n",
              "    .dataframe tbody tr th:only-of-type {\n",
              "        vertical-align: middle;\n",
              "    }\n",
              "\n",
              "    .dataframe tbody tr th {\n",
              "        vertical-align: top;\n",
              "    }\n",
              "\n",
              "    .dataframe thead th {\n",
              "        text-align: right;\n",
              "    }\n",
              "</style>\n",
              "<table border=\"1\" class=\"dataframe\">\n",
              "  <thead>\n",
              "    <tr style=\"text-align: right;\">\n",
              "      <th></th>\n",
              "      <th>Nasdaq Traded</th>\n",
              "      <th>Symbol</th>\n",
              "      <th>Security Name</th>\n",
              "      <th>Listing Exchange</th>\n",
              "      <th>Market Category</th>\n",
              "      <th>ETF</th>\n",
              "      <th>Round Lot Size</th>\n",
              "      <th>Test Issue</th>\n",
              "      <th>Financial Status</th>\n",
              "      <th>CQS Symbol</th>\n",
              "      <th>NASDAQ Symbol</th>\n",
              "      <th>NextShares</th>\n",
              "    </tr>\n",
              "  </thead>\n",
              "  <tbody>\n",
              "    <tr>\n",
              "      <th>0</th>\n",
              "      <td>Y</td>\n",
              "      <td>A</td>\n",
              "      <td>Agilent Technologies, Inc. Common Stock</td>\n",
              "      <td>N</td>\n",
              "      <td></td>\n",
              "      <td>N</td>\n",
              "      <td>100.0</td>\n",
              "      <td>N</td>\n",
              "      <td>NaN</td>\n",
              "      <td>A</td>\n",
              "      <td>A</td>\n",
              "      <td>N</td>\n",
              "    </tr>\n",
              "    <tr>\n",
              "      <th>1</th>\n",
              "      <td>Y</td>\n",
              "      <td>AA</td>\n",
              "      <td>Alcoa Corporation Common Stock</td>\n",
              "      <td>N</td>\n",
              "      <td></td>\n",
              "      <td>N</td>\n",
              "      <td>100.0</td>\n",
              "      <td>N</td>\n",
              "      <td>NaN</td>\n",
              "      <td>AA</td>\n",
              "      <td>AA</td>\n",
              "      <td>N</td>\n",
              "    </tr>\n",
              "    <tr>\n",
              "      <th>2</th>\n",
              "      <td>Y</td>\n",
              "      <td>AAAU</td>\n",
              "      <td>Perth Mint Physical Gold ETF</td>\n",
              "      <td>P</td>\n",
              "      <td></td>\n",
              "      <td>Y</td>\n",
              "      <td>100.0</td>\n",
              "      <td>N</td>\n",
              "      <td>NaN</td>\n",
              "      <td>AAAU</td>\n",
              "      <td>AAAU</td>\n",
              "      <td>N</td>\n",
              "    </tr>\n",
              "    <tr>\n",
              "      <th>3</th>\n",
              "      <td>Y</td>\n",
              "      <td>AACG</td>\n",
              "      <td>ATA Creativity Global - American Depositary Sh...</td>\n",
              "      <td>Q</td>\n",
              "      <td>G</td>\n",
              "      <td>N</td>\n",
              "      <td>100.0</td>\n",
              "      <td>N</td>\n",
              "      <td>N</td>\n",
              "      <td>NaN</td>\n",
              "      <td>AACG</td>\n",
              "      <td>N</td>\n",
              "    </tr>\n",
              "    <tr>\n",
              "      <th>4</th>\n",
              "      <td>Y</td>\n",
              "      <td>AADR</td>\n",
              "      <td>AdvisorShares Dorsey Wright ADR ETF</td>\n",
              "      <td>P</td>\n",
              "      <td></td>\n",
              "      <td>Y</td>\n",
              "      <td>100.0</td>\n",
              "      <td>N</td>\n",
              "      <td>NaN</td>\n",
              "      <td>AADR</td>\n",
              "      <td>AADR</td>\n",
              "      <td>N</td>\n",
              "    </tr>\n",
              "  </tbody>\n",
              "</table>\n",
              "</div>"
            ],
            "text/plain": [
              "  Nasdaq Traded Symbol  ... NASDAQ Symbol NextShares\n",
              "0             Y      A  ...             A          N\n",
              "1             Y     AA  ...            AA          N\n",
              "2             Y   AAAU  ...          AAAU          N\n",
              "3             Y   AACG  ...          AACG          N\n",
              "4             Y   AADR  ...          AADR          N\n",
              "\n",
              "[5 rows x 12 columns]"
            ]
          },
          "metadata": {
            "tags": []
          },
          "execution_count": 2
        }
      ]
    },
    {
      "cell_type": "code",
      "metadata": {
        "colab": {
          "base_uri": "https://localhost:8080/"
        },
        "id": "3UZnwaHhaDAz",
        "outputId": "37ae5b46-6b39-4b2d-b8a3-58b5e86cbdfd"
      },
      "source": [
        "#  Extracting the tickeers as an array\n",
        "tickers_list =  tickersDf['Symbol']\n",
        "tickers_list.head()"
      ],
      "execution_count": null,
      "outputs": [
        {
          "output_type": "execute_result",
          "data": {
            "text/plain": [
              "0       A\n",
              "1      AA\n",
              "2    AAAU\n",
              "3    AACG\n",
              "4    AADR\n",
              "Name: Symbol, dtype: object"
            ]
          },
          "metadata": {
            "tags": []
          },
          "execution_count": 3
        }
      ]
    },
    {
      "cell_type": "code",
      "metadata": {
        "id": "zDRSKx-LaQ9T"
      },
      "source": [
        "# Reading all the data from the files to get consolidated list of stock prices and tickers\n",
        "\n",
        "# Initialization of the data frame\n",
        "# finalDf = pd.DataFrame()\n",
        "\n",
        "# for ticker in tickers_list:\n",
        "#   try:\n",
        "#     temp = pd.read_csv('/content/drive/MyDrive/MLSpring-2021/teams/musketeers/Midterm/Data/'+ticker+'.csv')\n",
        "#     temp['Ticker'] = ticker\n",
        "#     finalDf = finalDf.append(temp)\n",
        "#   except:\n",
        "#     print('The ticker Symbol is  an  ETF  or Not Available '+ticker)\n",
        "\n",
        "# finalDf.to_csv('out.csv', index=False)\n",
        "# finalDf.info()"
      ],
      "execution_count": null,
      "outputs": []
    },
    {
      "cell_type": "code",
      "metadata": {
        "id": "zGWtBi_NlSYC"
      },
      "source": [
        "#finalDf.to_csv('/content/drive/MyDrive/MLSpring-2021/teams/musketeers/Midterm/Data/out.csv', index=False)"
      ],
      "execution_count": null,
      "outputs": []
    },
    {
      "cell_type": "markdown",
      "metadata": {
        "id": "ztU28gZROat5"
      },
      "source": [
        "## Data Source for Scraped Data\n"
      ]
    },
    {
      "cell_type": "code",
      "metadata": {
        "colab": {
          "base_uri": "https://localhost:8080/",
          "height": 204
        },
        "id": "GHUQPbYPsS2b",
        "outputId": "d3da4000-c9b2-49e9-f2b0-ad7178c15b24"
      },
      "source": [
        "data = pd.read_csv('/content/drive/MyDrive/MLSpring-2021/teams/musketeers/Midterm/Data/out.csv')\n",
        "data.head()"
      ],
      "execution_count": null,
      "outputs": [
        {
          "output_type": "execute_result",
          "data": {
            "text/html": [
              "<div>\n",
              "<style scoped>\n",
              "    .dataframe tbody tr th:only-of-type {\n",
              "        vertical-align: middle;\n",
              "    }\n",
              "\n",
              "    .dataframe tbody tr th {\n",
              "        vertical-align: top;\n",
              "    }\n",
              "\n",
              "    .dataframe thead th {\n",
              "        text-align: right;\n",
              "    }\n",
              "</style>\n",
              "<table border=\"1\" class=\"dataframe\">\n",
              "  <thead>\n",
              "    <tr style=\"text-align: right;\">\n",
              "      <th></th>\n",
              "      <th>Date</th>\n",
              "      <th>Open</th>\n",
              "      <th>High</th>\n",
              "      <th>Low</th>\n",
              "      <th>Close</th>\n",
              "      <th>Adj Close</th>\n",
              "      <th>Volume</th>\n",
              "      <th>Ticker</th>\n",
              "    </tr>\n",
              "  </thead>\n",
              "  <tbody>\n",
              "    <tr>\n",
              "      <th>0</th>\n",
              "      <td>1999-11-18</td>\n",
              "      <td>32.546494</td>\n",
              "      <td>35.765381</td>\n",
              "      <td>28.612303</td>\n",
              "      <td>31.473534</td>\n",
              "      <td>27.068665</td>\n",
              "      <td>62546300.0</td>\n",
              "      <td>A</td>\n",
              "    </tr>\n",
              "    <tr>\n",
              "      <th>1</th>\n",
              "      <td>1999-11-19</td>\n",
              "      <td>30.713520</td>\n",
              "      <td>30.758226</td>\n",
              "      <td>28.478184</td>\n",
              "      <td>28.880543</td>\n",
              "      <td>24.838577</td>\n",
              "      <td>15234100.0</td>\n",
              "      <td>A</td>\n",
              "    </tr>\n",
              "    <tr>\n",
              "      <th>2</th>\n",
              "      <td>1999-11-22</td>\n",
              "      <td>29.551144</td>\n",
              "      <td>31.473534</td>\n",
              "      <td>28.657009</td>\n",
              "      <td>31.473534</td>\n",
              "      <td>27.068665</td>\n",
              "      <td>6577800.0</td>\n",
              "      <td>A</td>\n",
              "    </tr>\n",
              "    <tr>\n",
              "      <th>3</th>\n",
              "      <td>1999-11-23</td>\n",
              "      <td>30.400572</td>\n",
              "      <td>31.205294</td>\n",
              "      <td>28.612303</td>\n",
              "      <td>28.612303</td>\n",
              "      <td>24.607880</td>\n",
              "      <td>5975600.0</td>\n",
              "      <td>A</td>\n",
              "    </tr>\n",
              "    <tr>\n",
              "      <th>4</th>\n",
              "      <td>1999-11-24</td>\n",
              "      <td>28.701717</td>\n",
              "      <td>29.998211</td>\n",
              "      <td>28.612303</td>\n",
              "      <td>29.372318</td>\n",
              "      <td>25.261524</td>\n",
              "      <td>4843200.0</td>\n",
              "      <td>A</td>\n",
              "    </tr>\n",
              "  </tbody>\n",
              "</table>\n",
              "</div>"
            ],
            "text/plain": [
              "         Date       Open       High  ...  Adj Close      Volume  Ticker\n",
              "0  1999-11-18  32.546494  35.765381  ...  27.068665  62546300.0       A\n",
              "1  1999-11-19  30.713520  30.758226  ...  24.838577  15234100.0       A\n",
              "2  1999-11-22  29.551144  31.473534  ...  27.068665   6577800.0       A\n",
              "3  1999-11-23  30.400572  31.205294  ...  24.607880   5975600.0       A\n",
              "4  1999-11-24  28.701717  29.998211  ...  25.261524   4843200.0       A\n",
              "\n",
              "[5 rows x 8 columns]"
            ]
          },
          "metadata": {
            "tags": []
          },
          "execution_count": 7
        }
      ]
    },
    {
      "cell_type": "code",
      "metadata": {
        "colab": {
          "base_uri": "https://localhost:8080/"
        },
        "id": "b3QBHLy7s4kr",
        "outputId": "c4cd27ff-1754-44ad-a377-24dea4a93b52"
      },
      "source": [
        "data.info()"
      ],
      "execution_count": null,
      "outputs": [
        {
          "output_type": "stream",
          "text": [
            "<class 'pandas.core.frame.DataFrame'>\n",
            "RangeIndex: 24175924 entries, 0 to 24175923\n",
            "Data columns (total 8 columns):\n",
            " #   Column     Dtype  \n",
            "---  ------     -----  \n",
            " 0   Date       object \n",
            " 1   Open       float64\n",
            " 2   High       float64\n",
            " 3   Low        float64\n",
            " 4   Close      float64\n",
            " 5   Adj Close  float64\n",
            " 6   Volume     float64\n",
            " 7   Ticker     object \n",
            "dtypes: float64(6), object(2)\n",
            "memory usage: 1.4+ GB\n"
          ],
          "name": "stdout"
        }
      ]
    },
    {
      "cell_type": "code",
      "metadata": {
        "id": "Bwn7Kc_fDYYC"
      },
      "source": [
        "for index,row in  data.iterrows():\n",
        "  print(row['Date'].split('-')[0])"
      ],
      "execution_count": null,
      "outputs": []
    },
    {
      "cell_type": "markdown",
      "metadata": {
        "id": "h4rznzjANwBk"
      },
      "source": [
        "# Data Pre-Processing"
      ]
    },
    {
      "cell_type": "markdown",
      "metadata": {
        "id": "tS6cuqVlNzlH"
      },
      "source": [
        "# Data Visualization"
      ]
    },
    {
      "cell_type": "code",
      "metadata": {
        "id": "jwKBRwPpLppJ"
      },
      "source": [
        ""
      ],
      "execution_count": null,
      "outputs": []
    }
  ]
}